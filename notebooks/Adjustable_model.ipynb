{
 "cells": [
  {
   "cell_type": "markdown",
   "metadata": {},
   "source": [
    "# Creating an interactive modelling tool with widgets to adjust variables"
   ]
  },
  {
   "cell_type": "code",
   "execution_count": 1,
   "metadata": {},
   "outputs": [],
   "source": [
    "import os\n",
    "import pandas as pd\n",
    "import ipywidgets as widgets\n",
    "from IPython.display import display, Markdown\n",
    "from ipywidgets import Layout\n",
    "\n",
    "from model import cost_model\n",
    "dispensing = 1.26"
   ]
  },
  {
   "cell_type": "code",
   "execution_count": 2,
   "metadata": {},
   "outputs": [
    {
     "data": {
      "text/html": [
       "<div>\n",
       "<style scoped>\n",
       "    .dataframe tbody tr th:only-of-type {\n",
       "        vertical-align: middle;\n",
       "    }\n",
       "\n",
       "    .dataframe tbody tr th {\n",
       "        vertical-align: top;\n",
       "    }\n",
       "\n",
       "    .dataframe thead th {\n",
       "        text-align: right;\n",
       "    }\n",
       "</style>\n",
       "<table border=\"1\" class=\"dataframe\">\n",
       "  <thead>\n",
       "    <tr style=\"text-align: right;\">\n",
       "      <th></th>\n",
       "      <th>pct</th>\n",
       "      <th>items_28d</th>\n",
       "      <th>total_items</th>\n",
       "      <th>net_cost_28d</th>\n",
       "      <th>percent_28d</th>\n",
       "      <th>cost_per_item</th>\n",
       "    </tr>\n",
       "  </thead>\n",
       "  <tbody>\n",
       "    <tr>\n",
       "      <th>187</th>\n",
       "      <td>99J</td>\n",
       "      <td>938302.0</td>\n",
       "      <td>1147677.0</td>\n",
       "      <td>956260.99</td>\n",
       "      <td>81.756627</td>\n",
       "      <td>1.019140</td>\n",
       "    </tr>\n",
       "    <tr>\n",
       "      <th>188</th>\n",
       "      <td>99K</td>\n",
       "      <td>220987.0</td>\n",
       "      <td>381550.0</td>\n",
       "      <td>232927.40</td>\n",
       "      <td>57.918228</td>\n",
       "      <td>1.054032</td>\n",
       "    </tr>\n",
       "    <tr>\n",
       "      <th>189</th>\n",
       "      <td>99M</td>\n",
       "      <td>182687.0</td>\n",
       "      <td>423717.0</td>\n",
       "      <td>179975.66</td>\n",
       "      <td>43.115334</td>\n",
       "      <td>0.985159</td>\n",
       "    </tr>\n",
       "    <tr>\n",
       "      <th>190</th>\n",
       "      <td>99N</td>\n",
       "      <td>826270.0</td>\n",
       "      <td>1221770.0</td>\n",
       "      <td>833533.07</td>\n",
       "      <td>67.628932</td>\n",
       "      <td>1.008790</td>\n",
       "    </tr>\n",
       "    <tr>\n",
       "      <th>191</th>\n",
       "      <td>All</td>\n",
       "      <td>87207906.0</td>\n",
       "      <td>131173827.0</td>\n",
       "      <td>90824270.97</td>\n",
       "      <td>66.482703</td>\n",
       "      <td>1.041468</td>\n",
       "    </tr>\n",
       "  </tbody>\n",
       "</table>\n",
       "</div>"
      ],
      "text/plain": [
       "     pct   items_28d  total_items  net_cost_28d  percent_28d  cost_per_item\n",
       "187  99J    938302.0    1147677.0     956260.99    81.756627       1.019140\n",
       "188  99K    220987.0     381550.0     232927.40    57.918228       1.054032\n",
       "189  99M    182687.0     423717.0     179975.66    43.115334       0.985159\n",
       "190  99N    826270.0    1221770.0     833533.07    67.628932       1.008790\n",
       "191  All  87207906.0  131173827.0   90824270.97    66.482703       1.041468"
      ]
     },
     "execution_count": 2,
     "metadata": {},
     "output_type": "execute_result"
    }
   ],
   "source": [
    "df_ltc = pd.read_csv(os.path.join(\"..\", \"data\", \"ltc_qty_cost.csv\"))\n",
    "\n",
    "# calculate cost per item\n",
    "data = df_ltc.set_index(\"pct\").sort_index()\n",
    "# add a total row\n",
    "data = data.append(data.sum().rename(\"All\")).reset_index()\n",
    "\n",
    "# calculate additional fields\n",
    "data[\"percent_28d\"] = 100*data['items_28d']/data['total_items']\n",
    "data[\"cost_per_item\"] = data['net_cost_28d']/data['items_28d']\n",
    "\n",
    "\n",
    "prescriptions = data.loc[data[\"pct\"]==\"All\", \"items_28d\"].item() \n",
    "priceperitem = data.loc[data[\"pct\"]==\"All\", \"cost_per_item\"].item()\n",
    "\n",
    "data.tail()"
   ]
  },
  {
   "cell_type": "markdown",
   "metadata": {},
   "source": [
    "## Create a simple interactive tool"
   ]
  },
  {
   "cell_type": "code",
   "execution_count": 3,
   "metadata": {},
   "outputs": [
    {
     "data": {
      "application/vnd.jupyter.widget-view+json": {
       "model_id": "381b3235f7074f8ca96c10d0607bb36f",
       "version_major": 2,
       "version_minor": 0
      },
      "text/plain": [
       "HBox(children=(VBox(children=(IntSlider(value=3, description='Months supply:', max=4, min=1, style=SliderStyle…"
      ]
     },
     "metadata": {},
     "output_type": "display_data"
    }
   ],
   "source": [
    "# ensure tests pass despite conflict with widget output:\n",
    "# NBVAL_IGNORE_OUTPUT \n",
    "\n",
    "# Selection widget:\n",
    "#ccg_selector = widgets.Dropdown(options=data[[\"pct\",\"items\"]].to_numpy().tolist(), value=prescriptions, description='CCG:', disabled=False)\n",
    "ccg_selector = widgets.Dropdown(options=data[\"pct\"], value=\"All\", description='CCG:', disabled=False)\n",
    "\n",
    "# make widget titles fit by setting the style\n",
    "style = {'description_width': 'initial'}\n",
    "\n",
    "\n",
    "### Sliders for other variables:\n",
    "\n",
    "months_supply_slider = widgets.IntSlider(min=1, max=4, step=1, description='Months supply:', style=style, value=3)\n",
    "\n",
    "# proportion of prescriptions amenable to change\n",
    "percent_amenable_slider = widgets.FloatSlider(min=0.2, max=0.95, step=0.05, description='Proportion amenable:', style=style, value=0.9)\n",
    "\n",
    "# proportion of prescriptions approved by a GP\n",
    "prop_doc_slider = widgets.FloatSlider(min=0.1, max=0.9, step=0.1, description='Proportion GP:', style=style, value=0.5)\n",
    "\n",
    "# time taken to approve a repeat prescription (minutes)\n",
    "time_slider = widgets.FloatSlider(min=0.1, max=2, step=0.1, description='Time per presc (min):', style=style, value=0.5)\n",
    "\n",
    "# proportion of prescriptions on electronic repeat dispensing (assume zero cost - or one cost per 12 months?)\n",
    "prop_erd_slider = widgets.FloatSlider(min=0, max=1, step=0.1, description='e-RD proportion:', style=style, value=0.5)\n",
    "\n",
    "# price per item\n",
    "#priceperitem_slider = widgets.FloatSlider(min=0.5, max=2, step=0.1, description='Price per item (£):', style=style, value=0.8)\n",
    "\n",
    "# cost of public time per minute\n",
    "cost_public_slider = widgets.IntSlider(min=5, max=15, step=1, description='Cost of public time per hour (£):', style=style, value=11)\n",
    "\n",
    "# time to collect prescription (minutes)\n",
    "time_collect_slider = widgets.IntSlider(min=0, max=30, step=1, description='Time to collect (min):', style=style, value=10)\n",
    "\n",
    "    \n",
    "def f(ccg_selector, months_supply_slider, percent_amenable_slider, prop_doc_slider, time_slider, prop_erd_slider, \n",
    "      cost_public_slider, time_collect_slider):\n",
    "    \n",
    "    ccg = ccg_selector\n",
    "    months_supply = months_supply_slider\n",
    "    percent_amenable = percent_amenable_slider\n",
    "    prop_doc = prop_doc_slider\n",
    "    t = time_slider\n",
    "    prop_erd = prop_erd_slider\n",
    "    #priceperitem = priceperitem_slider\n",
    "    cost_public = cost_public_slider\n",
    "    time_collect = time_collect_slider\n",
    "    \n",
    "    # items and cost per item, using ccg from dropdown\n",
    "    prescriptions = data.loc[data[\"pct\"]==ccg, \"items_28d\"].item() \n",
    "    percent_28d = data.loc[data[\"pct\"]==ccg, \"percent_28d\"].item() \n",
    "    priceperitem = data.loc[data[\"pct\"]==ccg, \"cost_per_item\"].item()\n",
    "\n",
    "    \n",
    "    results = cost_model(prescriptions, months_supply, percent_amenable, dispensing, prop_doc, prop_erd, t, priceperitem, cost_public, time_collect)\n",
    "    \n",
    "    dispensing_fees = results['dispensing']    \n",
    "    staff_cost = results['staff']\n",
    "    waste = results['waste']\n",
    "    patient_cost = results['patient']\n",
    "\n",
    "    print(f'Total 28-day prescriptions = {prescriptions:,.0f} \\n'\n",
    "          f'Percent 1 month (of all 1+2+3 month prescriptions) = {percent_28d:,.0f}% \\n'\n",
    "          f'Mean price per item = £{priceperitem:,.2f} \\n'\n",
    "          f'\\n'\n",
    "          f'Dispensing fees =  £{dispensing_fees/1E6:,.1f} M \\n'\n",
    "          f'Staff cost =  £{staff_cost/1E6:,.1f} M \\n'\n",
    "          f'Wasted meds =  £{waste/1E6:,.1f} M \\n'\n",
    "          f'Patient cost =  £{patient_cost/1E6:,.1f} M \\n \\n'\n",
    "          f'Overall impact: =  £{(staff_cost+ waste+ patient_cost)/1E6:,.1f} M'\n",
    "         )\n",
    "\n",
    "out = widgets.interactive_output(f, \n",
    "                                 {'ccg_selector': ccg_selector,\n",
    "                                  'months_supply_slider': months_supply_slider, \n",
    "                                  'percent_amenable_slider': percent_amenable_slider,\n",
    "                                  'prop_doc_slider': prop_doc_slider, \n",
    "                                  'time_slider': time_slider, \n",
    "                                  'prop_erd_slider': prop_erd_slider,\n",
    "                                  #'priceperitem_slider': priceperitem_slider, \n",
    "                                  'cost_public_slider': cost_public_slider, \n",
    "                                  'time_collect_slider': time_collect_slider})\n",
    "\n",
    "\n",
    "widgets.HBox([widgets.VBox([months_supply_slider, percent_amenable_slider, prop_doc_slider, time_slider, prop_erd_slider, \n",
    "      cost_public_slider, time_collect_slider, ccg_selector, out])])"
   ]
  },
  {
   "cell_type": "code",
   "execution_count": 4,
   "metadata": {},
   "outputs": [
    {
     "name": "stdout",
     "output_type": "stream",
     "text": [
      "Total 28-day prescriptions = 87,207,906 \n",
      "Percent 1 month (of all 1+2+3 month prescriptions) = 66% \n",
      "Mean price per item = £1.04 \n",
      "\n",
      "Dispensing fees =  £44.0 M \n",
      "Staff cost =  £12.3 M \n",
      "Wasted meds =  £9.3 M \n",
      "Patient cost =  £64.0 M \n",
      " \n",
      "Overall impact: =  £85.5 M\n"
     ]
    }
   ],
   "source": [
    "# Display static output\n",
    "f(ccg_selector=\"All\", \n",
    "  months_supply_slider = 3, \n",
    "  percent_amenable_slider = 0.9, \n",
    "  prop_doc_slider = 0.5, \n",
    "  time_slider=0.5, \n",
    "  prop_erd_slider=0.5, \n",
    "  cost_public_slider=11, \n",
    "  time_collect_slider=10)"
   ]
  }
 ],
 "metadata": {
  "jupytext": {
   "cell_metadata_filter": "all",
   "notebook_metadata_filter": "all,-language_info",
   "text_representation": {
    "extension": ".py",
    "format_name": "light",
    "format_version": "1.5",
    "jupytext_version": "1.3.3"
   }
  },
  "kernelspec": {
   "display_name": "Python 3",
   "language": "python",
   "name": "python3"
  },
  "language_info": {
   "codemirror_mode": {
    "name": "ipython",
    "version": 3
   },
   "file_extension": ".py",
   "mimetype": "text/x-python",
   "name": "python",
   "nbconvert_exporter": "python",
   "pygments_lexer": "ipython3",
   "version": "3.8.1"
  }
 },
 "nbformat": 4,
 "nbformat_minor": 4
}
